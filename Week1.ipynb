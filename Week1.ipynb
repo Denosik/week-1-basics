{
  "nbformat": 4,
  "nbformat_minor": 0,
  "metadata": {
    "colab": {
      "provenance": [],
      "authorship_tag": "ABX9TyPDlNy+pyy0vJyjC6Z7SIej",
      "include_colab_link": true
    },
    "kernelspec": {
      "name": "python3",
      "display_name": "Python 3"
    },
    "language_info": {
      "name": "python"
    }
  },
  "cells": [
    {
      "cell_type": "markdown",
      "metadata": {
        "id": "view-in-github",
        "colab_type": "text"
      },
      "source": [
        "<a href=\"https://colab.research.google.com/github/Denosik/week-1-basics/blob/main/Week1.ipynb\" target=\"_parent\"><img src=\"https://colab.research.google.com/assets/colab-badge.svg\" alt=\"Open In Colab\"/></a>"
      ]
    },
    {
      "cell_type": "code",
      "execution_count": 5,
      "metadata": {
        "colab": {
          "base_uri": "https://localhost:8080/"
        },
        "id": "FRrYDpSJcV6k",
        "outputId": "15fe592c-f276-499a-aa21-5b60ef63046f"
      },
      "outputs": [
        {
          "output_type": "stream",
          "name": "stdout",
          "text": [
            "Как ваше имя? Денис\n",
            "Сколько вам лет?25\n",
            "Ты взрослый\n",
            "Ты итак был взрослый, чего ты ожидал?\n"
          ]
        }
      ],
      "source": [
        "name = input(\"Как ваше имя? \")\n",
        "age = int(input(\"Сколько вам лет?\"))\n",
        "agetype = 0\n",
        "if age < 18:\n",
        "  print(\"Ты ребёнок\")\n",
        "  agetype = 1\n",
        "else:\n",
        "  print(\"Ты взрослый\")\n",
        "  agetype = 2\n",
        "age = age + 5\n",
        "if age < 18:\n",
        "  print(\"Ты всё ещё ребёнок\");\n",
        "if age > 18 and agetype == 1:\n",
        "  print(\"Ты уже не ребёнок\")\n",
        "if age > 18 and agetype == 2:\n",
        "  print(\"Ты итак был взрослый, чего ты ожидал?\")"
      ]
    },
    {
      "cell_type": "code",
      "source": [
        "int1 = int(input(\"Введите 1 число: \"))\n",
        "int2 = int(input(\"Введите 2 число: \"))\n",
        "\n",
        "funtrue = False\n",
        "while funtrue == False:\n",
        "  fun = input(\"Введите функцию: +/-/*/:  \")\n",
        "  if fun == \"+\" or fun == \"-\" or fun == \"*\" or fun == \"/\":\n",
        "    funtrue = True\n",
        "  else:\n",
        "    print(\"Вы ввели неверное значение\")\n",
        "\n",
        "if fun == \"+\":\n",
        "  print(int1,fun,int2,\"=\",(int1+int2))\n",
        "if fun == \"-\":\n",
        "  print(int1,fun,int2,\"=\",(int1-int2))\n",
        "if fun == \"*\":\n",
        "  print(int1,fun,int2,\"=\",(int1*int2))\n",
        "if fun == \"/\":\n",
        "  print(int1,fun,int2,\"=\",(int1/int2))\n"
      ],
      "metadata": {
        "colab": {
          "base_uri": "https://localhost:8080/"
        },
        "id": "Z-xD24QLkGBr",
        "outputId": "84975511-a0c3-4d52-e3e6-7099262875e6"
      },
      "execution_count": 14,
      "outputs": [
        {
          "output_type": "stream",
          "name": "stdout",
          "text": [
            "Введите 1 число: 4\n",
            "Введите 2 число: 6\n",
            "Введите функцию: +/-/*/:  *\n",
            "4 * 6 = 24\n"
          ]
        }
      ]
    },
    {
      "cell_type": "code",
      "source": [
        "nom = int(input(\"Введите число: \"))\n",
        "for i in range(10):\n",
        "  print(nom,\" * \", i, \" = \",nom * i)"
      ],
      "metadata": {
        "colab": {
          "base_uri": "https://localhost:8080/"
        },
        "id": "q5dotkRjohWb",
        "outputId": "548a4b87-ce86-436a-9e4a-ea9ed2a61875"
      },
      "execution_count": 20,
      "outputs": [
        {
          "output_type": "stream",
          "name": "stdout",
          "text": [
            "Введите число: 6\n",
            "6  *  0  =  0\n",
            "6  *  1  =  6\n",
            "6  *  2  =  12\n",
            "6  *  3  =  18\n",
            "6  *  4  =  24\n",
            "6  *  5  =  30\n",
            "6  *  6  =  36\n",
            "6  *  7  =  42\n",
            "6  *  8  =  48\n",
            "6  *  9  =  54\n"
          ]
        }
      ]
    },
    {
      "cell_type": "code",
      "source": [
        "def localfun(nom):\n",
        "    if nom % 2 == 0:\n",
        "      return True\n",
        "    else:\n",
        "      return False\n",
        "\n",
        "\n",
        "testint = int(input(\"Введите число: \"))\n",
        "\n",
        "print(localfun(testint))"
      ],
      "metadata": {
        "colab": {
          "base_uri": "https://localhost:8080/"
        },
        "id": "05Dt_hvopbyv",
        "outputId": "16b935f5-1cec-4fb1-b539-4815d278ab01"
      },
      "execution_count": 23,
      "outputs": [
        {
          "output_type": "stream",
          "name": "stdout",
          "text": [
            "Введите число: 6\n",
            "True\n"
          ]
        }
      ]
    }
  ]
}